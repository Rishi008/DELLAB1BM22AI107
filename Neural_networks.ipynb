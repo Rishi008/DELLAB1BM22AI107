{
  "nbformat": 4,
  "nbformat_minor": 0,
  "metadata": {
    "colab": {
      "provenance": []
    },
    "kernelspec": {
      "name": "python3",
      "display_name": "Python 3"
    },
    "language_info": {
      "name": "python"
    }
  },
  "cells": [
    {
      "cell_type": "code",
      "execution_count": 1,
      "metadata": {
        "colab": {
          "base_uri": "https://localhost:8080/"
        },
        "id": "_mS-CmZV2PUn",
        "outputId": "22c4253c-e6aa-4195-c4be-6451301b3545"
      },
      "outputs": [
        {
          "output_type": "stream",
          "name": "stdout",
          "text": [
            "Training with Gradient Descent...\n",
            "Epoch [1/10], Loss: 0.6962\n",
            "Epoch [2/10], Loss: 0.6962\n",
            "Epoch [3/10], Loss: 0.6961\n",
            "Epoch [4/10], Loss: 0.6961\n",
            "Epoch [5/10], Loss: 0.6960\n",
            "Epoch [6/10], Loss: 0.6960\n",
            "Epoch [7/10], Loss: 0.6959\n",
            "Epoch [8/10], Loss: 0.6959\n",
            "Epoch [9/10], Loss: 0.6959\n",
            "Epoch [10/10], Loss: 0.6958\n",
            "Validation Accuracy: 51.00%\n",
            "\n",
            "Training with Stochastic Gradient Descent...\n",
            "Epoch [1/10], Loss: 0.7269\n",
            "Epoch [2/10], Loss: 0.7102\n",
            "Epoch [3/10], Loss: 0.6939\n",
            "Epoch [4/10], Loss: 0.7403\n",
            "Epoch [5/10], Loss: 0.6781\n",
            "Epoch [6/10], Loss: 0.6621\n",
            "Epoch [7/10], Loss: 0.6950\n",
            "Epoch [8/10], Loss: 0.7156\n",
            "Epoch [9/10], Loss: 0.7308\n",
            "Epoch [10/10], Loss: 0.7299\n",
            "Validation Accuracy: 49.00%\n"
          ]
        }
      ],
      "source": [
        "import torch\n",
        "import torch.nn as nn\n",
        "import torch.optim as optim\n",
        "from torch.utils.data import DataLoader, TensorDataset\n",
        "\n",
        "torch.manual_seed(0)\n",
        "X = torch.rand(1000, 10)\n",
        "y = (torch.sum(X, dim=1) > 5).float().unsqueeze(1)\n",
        "\n",
        "train_data = TensorDataset(X[:800], y[:800])\n",
        "val_data = TensorDataset(X[800:], y[800:])\n",
        "train_loader = DataLoader(train_data, batch_size=64, shuffle=True)\n",
        "val_loader = DataLoader(val_data, batch_size=64)\n",
        "\n",
        "class DeepNN(nn.Module):\n",
        "    def __init__(self):\n",
        "        super(DeepNN, self).__init__()\n",
        "        self.network = nn.Sequential(\n",
        "            nn.Linear(10, 64),\n",
        "            nn.ReLU(),\n",
        "            nn.Linear(64, 32),\n",
        "            nn.ReLU(),\n",
        "            nn.Linear(32, 1),\n",
        "            nn.Sigmoid()\n",
        "        )\n",
        "\n",
        "    def forward(self, x):\n",
        "        return self.network(x)\n",
        "\n",
        "model = DeepNN()\n",
        "criterion = nn.BCELoss()\n",
        "optimizer_gd = optim.SGD(model.parameters(), lr=0.01)\n",
        "optimizer_sgd = optim.SGD(model.parameters(), lr=0.01)\n",
        "\n",
        "def train(model, loader, optimizer, num_epochs=10):\n",
        "    for epoch in range(num_epochs):\n",
        "        model.train()\n",
        "        for batch_idx, (inputs, targets) in enumerate(loader):\n",
        "\n",
        "            outputs = model(inputs)\n",
        "            loss = criterion(outputs, targets)\n",
        "\n",
        "            optimizer.zero_grad()\n",
        "            loss.backward()\n",
        "            optimizer.step()\n",
        "\n",
        "        print(f\"Epoch [{epoch+1}/{num_epochs}], Loss: {loss.item():.4f}\")\n",
        "\n",
        "def evaluate(model, loader):\n",
        "    model.eval()\n",
        "    correct, total = 0, 0\n",
        "    with torch.no_grad():\n",
        "        for inputs, targets in loader:\n",
        "            outputs = model(inputs)\n",
        "            predictions = (outputs > 0.5).float()\n",
        "            total += targets.size(0)\n",
        "            correct += (predictions == targets).sum().item()\n",
        "    accuracy = correct / total\n",
        "    print(f\"Validation Accuracy: {accuracy * 100:.2f}%\")\n",
        "\n",
        "print(\"Training with Gradient Descent...\")\n",
        "train(model, DataLoader(train_data, batch_size=len(train_data), shuffle=False), optimizer_gd)\n",
        "evaluate(model, val_loader)\n",
        "\n",
        "model = DeepNN()\n",
        "\n",
        "print(\"\\nTraining with Stochastic Gradient Descent...\")\n",
        "train(model, train_loader, optimizer_sgd)\n",
        "evaluate(model, val_loader)\n"
      ]
    }
  ]
}